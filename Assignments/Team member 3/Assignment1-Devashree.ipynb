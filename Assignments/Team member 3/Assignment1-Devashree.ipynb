{
 "cells": [
  {
   "cell_type": "markdown",
   "id": "148ceb4b",
   "metadata": {},
   "source": [
    "# Basic Python"
   ]
  },
  {
   "cell_type": "markdown",
   "id": "0e1c06ce",
   "metadata": {},
   "source": [
    "1. Split this string"
   ]
  },
  {
   "cell_type": "code",
   "execution_count": null,
   "id": "c7a3b98c",
   "metadata": {},
   "outputs": [],
   "source": [
    "s = \"Hi there Sam!\"\n",
    "x=s.split()\n",
    "print(x)"
   ]
  },
  {
   "cell_type": "raw",
   "id": "70d12406",
   "metadata": {},
   "source": [
    "['Hi', 'there', 'Sam!']"
   ]
  },
  {
   "cell_type": "markdown",
   "id": "55f45016",
   "metadata": {},
   "source": [
    "2. Use .format() to print the following string."
   ]
  },
  {
   "cell_type": "markdown",
   "id": "31b5b6f2",
   "metadata": {},
   "source": [
    "Output should be: The diameter of Earth is 12742 kilometers."
   ]
  },
  {
   "cell_type": "code",
   "execution_count": null,
   "id": "05fd5a56",
   "metadata": {},
   "outputs": [],
   "source": [
    "planet = \"Earth\"\n",
    "diameter = 12742\n",
    "str=(\"The diameter of {planet} is {diameter} kilometers.\")\n",
    "print((str.format(planet=\"Earth\",diameter=12742)))"
   ]
  },
  {
   "cell_type": "raw",
   "id": "911d6ce4",
   "metadata": {},
   "source": [
    "The diameter of Earth is 12742 kilometers.\n"
   ]
  },
  {
   "cell_type": "markdown",
   "id": "102ab3e5",
   "metadata": {},
   "source": [
    "3. In this nest dictionary grab the word \"hello\"\n"
   ]
  },
  {
   "cell_type": "code",
   "execution_count": null,
   "id": "43ab3261",
   "metadata": {},
   "outputs": [],
   "source": [
    "d = {'k1':[1,2,3,{'tricky':['oh','man','inception',{'target':[1,2,3,'hello']}]}]}"
   ]
  },
  {
   "cell_type": "code",
   "execution_count": null,
   "id": "b57ba3f0",
   "metadata": {},
   "outputs": [],
   "source": [
    "d.get('target',{}).get('hello')"
   ]
  },
  {
   "cell_type": "markdown",
   "id": "57a6fd6e",
   "metadata": {},
   "source": [
    "Numpy"
   ]
  },
  {
   "cell_type": "code",
   "execution_count": null,
   "id": "212a9d3c",
   "metadata": {},
   "outputs": [],
   "source": [
    "import numpy as np"
   ]
  },
  {
   "cell_type": "markdown",
   "id": "e91dce1b",
   "metadata": {},
   "source": [
    "4.1 Create an array of 10 zeros?"
   ]
  },
  {
   "cell_type": "markdown",
   "id": "105ad34d",
   "metadata": {},
   "source": [
    "4.2 Create an array of 10 fives?"
   ]
  },
  {
   "cell_type": "code",
   "execution_count": null,
   "id": "8ad1ea24",
   "metadata": {},
   "outputs": [],
   "source": [
    "arr=np.zeros(10)\n",
    "print(arr)"
   ]
  },
  {
   "cell_type": "raw",
   "id": "003ed73f",
   "metadata": {},
   "source": [
    "[0. 0. 0. 0. 0. 0. 0. 0. 0. 0.]"
   ]
  },
  {
   "cell_type": "code",
   "execution_count": null,
   "id": "3a10afb7",
   "metadata": {},
   "outputs": [],
   "source": [
    "arr=np.ones(10)*5\n",
    "print(arr)"
   ]
  },
  {
   "cell_type": "raw",
   "id": "8a04fa1f",
   "metadata": {},
   "source": [
    "[5. 5. 5. 5. 5. 5. 5. 5. 5. 5.]"
   ]
  },
  {
   "cell_type": "markdown",
   "id": "2af910a3",
   "metadata": {},
   "source": [
    "5. Create an array of all the even integers from 20 to 35"
   ]
  },
  {
   "cell_type": "code",
   "execution_count": null,
   "id": "adabf5ce",
   "metadata": {},
   "outputs": [],
   "source": [
    "arr=np.arange(20,36,2)\n",
    "print(arr)"
   ]
  },
  {
   "cell_type": "markdown",
   "id": "ea9a55dd",
   "metadata": {},
   "source": [
    "[20 22 24 26 28 30 32 34]"
   ]
  },
  {
   "cell_type": "markdown",
   "id": "9b453b43",
   "metadata": {},
   "source": [
    "6. Create a 3x3 matrix with values ranging from 0 to 8"
   ]
  },
  {
   "cell_type": "code",
   "execution_count": null,
   "id": "38914043",
   "metadata": {},
   "outputs": [],
   "source": [
    "arr=np.arange(0,9).reshape(3,3)\n",
    "print(arr)"
   ]
  },
  {
   "cell_type": "raw",
   "id": "d55c1c4f",
   "metadata": {},
   "source": [
    "[[0 1 2]\n",
    " [3 4 5]\n",
    " [6 7 8]]"
   ]
  },
  {
   "cell_type": "markdown",
   "id": "907ccb78",
   "metadata": {},
   "source": [
    "7. Concatenate a and b"
   ]
  },
  {
   "cell_type": "markdown",
   "id": "cba2161c",
   "metadata": {},
   "source": [
    "a = np.array([1, 2, 3]), b = np.array([4, 5, 6])"
   ]
  },
  {
   "cell_type": "code",
   "execution_count": null,
   "id": "cf77ca6c",
   "metadata": {},
   "outputs": [],
   "source": [
    "a=np.array([1,2,3])\n",
    "b=np.array([4,5,6])\n",
    "np.concatenate((a,b),axis=None)"
   ]
  },
  {
   "cell_type": "raw",
   "id": "bff77b97",
   "metadata": {},
   "source": [
    "array([1, 2, 3, 4, 5, 6])"
   ]
  },
  {
   "cell_type": "markdown",
   "id": "c719ac89",
   "metadata": {},
   "source": [
    "Pandas"
   ]
  },
  {
   "cell_type": "markdown",
   "id": "9fb55447",
   "metadata": {},
   "source": [
    "8. Create a dataframe with 3 rows and 2 columns"
   ]
  },
  {
   "cell_type": "code",
   "execution_count": null,
   "id": "9835fb44",
   "metadata": {},
   "outputs": [],
   "source": [
    "import pandas as pd"
   ]
  },
  {
   "cell_type": "markdown",
   "id": "7e3658e9",
   "metadata": {},
   "source": [
    "9. Generate the series of dates from 1st Jan, 2023 to 10th Feb, 2023"
   ]
  },
  {
   "cell_type": "code",
   "execution_count": null,
   "id": "385fe7c2",
   "metadata": {},
   "outputs": [],
   "source": [
    "pd.date_range(start='1/1/2023', end='10/02/2023')"
   ]
  },
  {
   "cell_type": "raw",
   "id": "e6ddd791",
   "metadata": {},
   "source": [
    "DatetimeIndex(['2023-01-01', '2023-01-02', '2023-01-03', '2023-01-04',\n",
    "               '2023-01-05', '2023-01-06', '2023-01-07', '2023-01-08',\n",
    "               '2023-01-09', '2023-01-10',\n",
    "               ...\n",
    "               '2023-09-23', '2023-09-24', '2023-09-25', '2023-09-26',\n",
    "               '2023-09-27', '2023-09-28', '2023-09-29', '2023-09-30',\n",
    "               '2023-10-01', '2023-10-02'],\n",
    "              dtype='datetime64[ns]', length=275, freq='D')"
   ]
  },
  {
   "cell_type": "markdown",
   "id": "dd3039ca",
   "metadata": {},
   "source": [
    "10. Create 2D list to DataFrame"
   ]
  },
  {
   "cell_type": "markdown",
   "id": "162ae708",
   "metadata": {},
   "source": [
    "lists = [[1, 'aaa', 22], [2, 'bbb', 25], [3, 'ccc', 24]]"
   ]
  },
  {
   "cell_type": "code",
   "execution_count": null,
   "id": "c4fcfb5c",
   "metadata": {},
   "outputs": [],
   "source": [
    "lists = [[1, 'aaa', 22], [2, 'bbb', 25], [3, 'ccc', 24]]\n",
    "lst = [[1, 'aaa', 22], [2, 'bbb', 25], [3, 'ccc', 24]]    \n",
    "df = pd.DataFrame(lst,columns =['Tag','day','number']) \n",
    "print(df)"
   ]
  },
  {
   "cell_type": "raw",
   "id": "abcbee75",
   "metadata": {},
   "source": [
    "  Tag  day  number\n",
    "0    1  aaa      22\n",
    "1    2  bbb      25\n",
    "2    3  ccc      24"
   ]
  }
 ],
 "metadata": {
  "kernelspec": {
   "display_name": "Python 3 (ipykernel)",
   "language": "python",
   "name": "python3"
  },
  "language_info": {
   "codemirror_mode": {
    "name": "ipython",
    "version": 3
   },
   "file_extension": ".py",
   "mimetype": "text/x-python",
   "name": "python",
   "nbconvert_exporter": "python",
   "pygments_lexer": "ipython3",
   "version": "3.10.7"
  }
 },
 "nbformat": 4,
 "nbformat_minor": 5
}
