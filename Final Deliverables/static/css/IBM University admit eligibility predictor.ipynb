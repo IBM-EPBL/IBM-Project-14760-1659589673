{
 "cells": [
  {
   "cell_type": "code",
   "execution_count": null,
   "metadata": {},
   "outputs": [],
   "source": []
  }
 ],
 "metadata": {
  "kernelspec": {
   "display_name": "Python 3.10.7 64-bit",
   "language": "python",
   "name": "python3"
  },
  "language_info": {
   "name": "python",
   "version": "3.10.7"
  },
  "orig_nbformat": 4,
  "vscode": {
   "interpreter": {
    "hash": "8820ed76f8f82c723d3f1023bc45344a4d48439162da9c32259a6ec1aed7f258"
   }
  }
 },
 "nbformat": 4,
 "nbformat_minor": 2
}
